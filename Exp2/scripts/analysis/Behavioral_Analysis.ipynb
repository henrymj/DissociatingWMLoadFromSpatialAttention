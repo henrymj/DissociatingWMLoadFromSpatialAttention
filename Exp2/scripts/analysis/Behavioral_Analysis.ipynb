{
 "cells": [
  {
   "cell_type": "code",
   "execution_count": 1,
   "id": "dab7ba01-6e1f-4977-bfdc-cfb0be545a15",
   "metadata": {},
   "outputs": [
    {
     "name": "stderr",
     "output_type": "stream",
     "text": [
      "/opt/homebrew/Caskroom/miniforge/base/envs/accel/lib/python3.10/site-packages/outdated/utils.py:14: OutdatedPackageWarning: The package pingouin is out of date. Your version is 0.5.0, the latest is 0.5.3.\n",
      "Set the environment variable OUTDATED_IGNORE=1 to disable these warnings.\n",
      "  return warn(\n",
      "/opt/homebrew/Caskroom/miniforge/base/envs/accel/lib/python3.10/site-packages/outdated/utils.py:14: OutdatedPackageWarning: The package outdated is out of date. Your version is 0.2.1, the latest is 0.2.2.\n",
      "Set the environment variable OUTDATED_IGNORE=1 to disable these warnings.\n",
      "  return warn(\n"
     ]
    }
   ],
   "source": [
    "import numpy as np\n",
    "import pandas as pd\n",
    "import pingouin as pg\n",
    "\n",
    "import matplotlib.pyplot as plt\n",
    "import seaborn as sns\n",
    "\n",
    "import EEG_Decoder.eeg_decoder as eeg_decoder\n",
    "from utils import clean_behavior, setup_hyperplane_conds\n",
    "\n",
    "from scipy.stats import ttest_1samp, ttest_rel\n",
    "\n",
    "%load_ext autoreload\n",
    "%autoreload 2"
   ]
  },
  {
   "cell_type": "code",
   "execution_count": 2,
   "id": "8b56139e",
   "metadata": {},
   "outputs": [],
   "source": [
    "np.random.seed(2023)"
   ]
  },
  {
   "cell_type": "code",
   "execution_count": 3,
   "id": "3d8134fe-27e6-457d-be1c-d0c9db6bfd33",
   "metadata": {},
   "outputs": [],
   "source": [
    "experiment_name = 'DATA/Preprocessed'\n",
    "data_dir = f'../../{experiment_name}'\n",
    "exp = eeg_decoder.Experiment(experiment_name,data_dir,dev=False)\n",
    "exp.behavior_files = sorted(list(exp.data_dir.glob('*.csv')))"
   ]
  },
  {
   "cell_type": "code",
   "execution_count": 4,
   "id": "b93738a2-713a-4ebb-b6de-07ed1b20c5e2",
   "metadata": {},
   "outputs": [],
   "source": [
    "behavior_dict = {}\n",
    "\n",
    "for isub in range(exp.nsub):    \n",
    "    \n",
    "    noArt_idx = exp.load_artifact_idx(isub)    \n",
    "    behavior = pd.read_csv(exp.behavior_files[isub])\n",
    "    behavior = clean_behavior(behavior, noArt_idx, isub)  \n",
    "    behavior = setup_hyperplane_conds(behavior, separate_no_overlap=True)\n",
    "    \n",
    "    # drop interruption trials for subs 4,5\n",
    "    no_interruption_trials = (behavior.port_codes < 240).values\n",
    "    behavior = behavior[no_interruption_trials].reset_index(drop=True)\n",
    "\n",
    "    # drop set size 1 trials with < 24 dots\n",
    "    behavior = behavior.query('total_nDots >= 24').reset_index(drop=True)\n",
    "    \n",
    "    behavior_dict[isub] = behavior\n",
    "\n"
   ]
  },
  {
   "cell_type": "code",
   "execution_count": 5,
   "id": "c351df5c",
   "metadata": {},
   "outputs": [],
   "source": [
    "full_behavior_df = pd.DataFrame()\n",
    "for isub, behavior in behavior_dict.items():\n",
    "    behavior['sid'] = isub\n",
    "    full_behavior_df = full_behavior_df.append(behavior, ignore_index=True)"
   ]
  },
  {
   "cell_type": "code",
   "execution_count": 6,
   "id": "497534e7",
   "metadata": {},
   "outputs": [
    {
     "data": {
      "text/plain": [
       "mean    0.919328\n",
       "std     0.065620\n",
       "Name: ACC, dtype: float64"
      ]
     },
     "execution_count": 6,
     "metadata": {},
     "output_type": "execute_result"
    }
   ],
   "source": [
    "participant_accs = full_behavior_df.groupby(['sid'])['ACC'].mean()\n",
    "# np.mean(participant_accs), np.std(participant_accs)\n",
    "participant_accs.aggregate(['mean', 'std'])"
   ]
  },
  {
   "attachments": {},
   "cell_type": "markdown",
   "id": "eaec3d0f",
   "metadata": {},
   "source": [
    "# SS1 vs SS2"
   ]
  },
  {
   "cell_type": "code",
   "execution_count": 7,
   "id": "e2bd843e",
   "metadata": {},
   "outputs": [
    {
     "data": {
      "text/html": [
       "<div>\n",
       "<style scoped>\n",
       "    .dataframe tbody tr th:only-of-type {\n",
       "        vertical-align: middle;\n",
       "    }\n",
       "\n",
       "    .dataframe tbody tr th {\n",
       "        vertical-align: top;\n",
       "    }\n",
       "\n",
       "    .dataframe thead th {\n",
       "        text-align: right;\n",
       "    }\n",
       "</style>\n",
       "<table border=\"1\" class=\"dataframe\">\n",
       "  <thead>\n",
       "    <tr style=\"text-align: right;\">\n",
       "      <th></th>\n",
       "      <th>sid</th>\n",
       "      <th>SetSize</th>\n",
       "      <th>ACC</th>\n",
       "    </tr>\n",
       "  </thead>\n",
       "  <tbody>\n",
       "    <tr>\n",
       "      <th>0</th>\n",
       "      <td>0</td>\n",
       "      <td>1</td>\n",
       "      <td>0.936819</td>\n",
       "    </tr>\n",
       "    <tr>\n",
       "      <th>1</th>\n",
       "      <td>0</td>\n",
       "      <td>2</td>\n",
       "      <td>0.756098</td>\n",
       "    </tr>\n",
       "    <tr>\n",
       "      <th>2</th>\n",
       "      <td>1</td>\n",
       "      <td>1</td>\n",
       "      <td>0.997951</td>\n",
       "    </tr>\n",
       "    <tr>\n",
       "      <th>3</th>\n",
       "      <td>1</td>\n",
       "      <td>2</td>\n",
       "      <td>0.980080</td>\n",
       "    </tr>\n",
       "    <tr>\n",
       "      <th>4</th>\n",
       "      <td>2</td>\n",
       "      <td>1</td>\n",
       "      <td>0.982684</td>\n",
       "    </tr>\n",
       "  </tbody>\n",
       "</table>\n",
       "</div>"
      ],
      "text/plain": [
       "   sid  SetSize       ACC\n",
       "0    0        1  0.936819\n",
       "1    0        2  0.756098\n",
       "2    1        1  0.997951\n",
       "3    1        2  0.980080\n",
       "4    2        1  0.982684"
      ]
     },
     "execution_count": 7,
     "metadata": {},
     "output_type": "execute_result"
    }
   ],
   "source": [
    "set_size_df = full_behavior_df.groupby(['sid', 'SetSize'])['ACC'].mean().reset_index()\n",
    "set_size_df.head()"
   ]
  },
  {
   "cell_type": "code",
   "execution_count": 8,
   "id": "4453b546",
   "metadata": {},
   "outputs": [
    {
     "data": {
      "text/html": [
       "<div>\n",
       "<style scoped>\n",
       "    .dataframe tbody tr th:only-of-type {\n",
       "        vertical-align: middle;\n",
       "    }\n",
       "\n",
       "    .dataframe tbody tr th {\n",
       "        vertical-align: top;\n",
       "    }\n",
       "\n",
       "    .dataframe thead th {\n",
       "        text-align: right;\n",
       "    }\n",
       "</style>\n",
       "<table border=\"1\" class=\"dataframe\">\n",
       "  <thead>\n",
       "    <tr style=\"text-align: right;\">\n",
       "      <th></th>\n",
       "      <th>mean</th>\n",
       "      <th>std</th>\n",
       "    </tr>\n",
       "    <tr>\n",
       "      <th>SetSize</th>\n",
       "      <th></th>\n",
       "      <th></th>\n",
       "    </tr>\n",
       "  </thead>\n",
       "  <tbody>\n",
       "    <tr>\n",
       "      <th>1</th>\n",
       "      <td>0.967460</td>\n",
       "      <td>0.05342</td>\n",
       "    </tr>\n",
       "    <tr>\n",
       "      <th>2</th>\n",
       "      <td>0.886801</td>\n",
       "      <td>0.08144</td>\n",
       "    </tr>\n",
       "  </tbody>\n",
       "</table>\n",
       "</div>"
      ],
      "text/plain": [
       "             mean      std\n",
       "SetSize                   \n",
       "1        0.967460  0.05342\n",
       "2        0.886801  0.08144"
      ]
     },
     "execution_count": 8,
     "metadata": {},
     "output_type": "execute_result"
    }
   ],
   "source": [
    "set_size_df.groupby('SetSize').aggregate(['mean', 'std'])['ACC']"
   ]
  },
  {
   "cell_type": "code",
   "execution_count": 9,
   "id": "4648f095",
   "metadata": {},
   "outputs": [
    {
     "data": {
      "text/plain": [
       "17280.0"
      ]
     },
     "execution_count": 9,
     "metadata": {},
     "output_type": "execute_result"
    }
   ],
   "source": [
    "1.728e+04"
   ]
  },
  {
   "cell_type": "code",
   "execution_count": 10,
   "id": "8cdd4ba3",
   "metadata": {},
   "outputs": [
    {
     "data": {
      "text/html": [
       "<div>\n",
       "<style scoped>\n",
       "    .dataframe tbody tr th:only-of-type {\n",
       "        vertical-align: middle;\n",
       "    }\n",
       "\n",
       "    .dataframe tbody tr th {\n",
       "        vertical-align: top;\n",
       "    }\n",
       "\n",
       "    .dataframe thead th {\n",
       "        text-align: right;\n",
       "    }\n",
       "</style>\n",
       "<table border=\"1\" class=\"dataframe\">\n",
       "  <thead>\n",
       "    <tr style=\"text-align: right;\">\n",
       "      <th></th>\n",
       "      <th>Contrast</th>\n",
       "      <th>A</th>\n",
       "      <th>B</th>\n",
       "      <th>mean(A)</th>\n",
       "      <th>std(A)</th>\n",
       "      <th>mean(B)</th>\n",
       "      <th>std(B)</th>\n",
       "      <th>Paired</th>\n",
       "      <th>Parametric</th>\n",
       "      <th>T</th>\n",
       "      <th>dof</th>\n",
       "      <th>alternative</th>\n",
       "      <th>p-unc</th>\n",
       "      <th>BF10</th>\n",
       "      <th>cohen</th>\n",
       "    </tr>\n",
       "  </thead>\n",
       "  <tbody>\n",
       "    <tr>\n",
       "      <th>0</th>\n",
       "      <td>SetSize</td>\n",
       "      <td>1</td>\n",
       "      <td>2</td>\n",
       "      <td>0.96746</td>\n",
       "      <td>0.05342</td>\n",
       "      <td>0.886801</td>\n",
       "      <td>0.08144</td>\n",
       "      <td>True</td>\n",
       "      <td>True</td>\n",
       "      <td>6.673954</td>\n",
       "      <td>22.0</td>\n",
       "      <td>two-sided</td>\n",
       "      <td>0.000001</td>\n",
       "      <td>1.728e+04</td>\n",
       "      <td>1.171182</td>\n",
       "    </tr>\n",
       "  </tbody>\n",
       "</table>\n",
       "</div>"
      ],
      "text/plain": [
       "  Contrast  A  B  mean(A)   std(A)   mean(B)   std(B)  Paired  Parametric  \\\n",
       "0  SetSize  1  2  0.96746  0.05342  0.886801  0.08144    True        True   \n",
       "\n",
       "          T   dof alternative     p-unc       BF10     cohen  \n",
       "0  6.673954  22.0   two-sided  0.000001  1.728e+04  1.171182  "
      ]
     },
     "execution_count": 10,
     "metadata": {},
     "output_type": "execute_result"
    }
   ],
   "source": [
    "pg.pairwise_ttests(dv='ACC', within='SetSize', subject='sid', data=set_size_df, effsize='cohen', return_desc=True)\n"
   ]
  },
  {
   "attachments": {},
   "cell_type": "markdown",
   "id": "d73b0ff4",
   "metadata": {},
   "source": [
    "## Repeat without informative eyes"
   ]
  },
  {
   "cell_type": "code",
   "execution_count": 11,
   "id": "cd4699f0",
   "metadata": {},
   "outputs": [],
   "source": [
    "bad_eyes = pd.read_csv('informative_eye_subs.csv', index_col=0).index.values\n",
    "set_size_df = set_size_df[~set_size_df.sid.isin(bad_eyes)]"
   ]
  },
  {
   "cell_type": "code",
   "execution_count": 12,
   "id": "4f1bd3ea",
   "metadata": {},
   "outputs": [
    {
     "data": {
      "text/html": [
       "<div>\n",
       "<style scoped>\n",
       "    .dataframe tbody tr th:only-of-type {\n",
       "        vertical-align: middle;\n",
       "    }\n",
       "\n",
       "    .dataframe tbody tr th {\n",
       "        vertical-align: top;\n",
       "    }\n",
       "\n",
       "    .dataframe thead th {\n",
       "        text-align: right;\n",
       "    }\n",
       "</style>\n",
       "<table border=\"1\" class=\"dataframe\">\n",
       "  <thead>\n",
       "    <tr style=\"text-align: right;\">\n",
       "      <th></th>\n",
       "      <th>Contrast</th>\n",
       "      <th>A</th>\n",
       "      <th>B</th>\n",
       "      <th>mean(A)</th>\n",
       "      <th>std(A)</th>\n",
       "      <th>mean(B)</th>\n",
       "      <th>std(B)</th>\n",
       "      <th>Paired</th>\n",
       "      <th>Parametric</th>\n",
       "      <th>T</th>\n",
       "      <th>dof</th>\n",
       "      <th>alternative</th>\n",
       "      <th>p-unc</th>\n",
       "      <th>BF10</th>\n",
       "      <th>cohen</th>\n",
       "    </tr>\n",
       "  </thead>\n",
       "  <tbody>\n",
       "    <tr>\n",
       "      <th>0</th>\n",
       "      <td>SetSize</td>\n",
       "      <td>1</td>\n",
       "      <td>2</td>\n",
       "      <td>0.964074</td>\n",
       "      <td>0.05817</td>\n",
       "      <td>0.876631</td>\n",
       "      <td>0.085549</td>\n",
       "      <td>True</td>\n",
       "      <td>True</td>\n",
       "      <td>6.26605</td>\n",
       "      <td>18.0</td>\n",
       "      <td>two-sided</td>\n",
       "      <td>0.000007</td>\n",
       "      <td>3229.998</td>\n",
       "      <td>1.195373</td>\n",
       "    </tr>\n",
       "  </tbody>\n",
       "</table>\n",
       "</div>"
      ],
      "text/plain": [
       "  Contrast  A  B   mean(A)   std(A)   mean(B)    std(B)  Paired  Parametric  \\\n",
       "0  SetSize  1  2  0.964074  0.05817  0.876631  0.085549    True        True   \n",
       "\n",
       "         T   dof alternative     p-unc      BF10     cohen  \n",
       "0  6.26605  18.0   two-sided  0.000007  3229.998  1.195373  "
      ]
     },
     "execution_count": 12,
     "metadata": {},
     "output_type": "execute_result"
    }
   ],
   "source": [
    "pg.pairwise_ttests(dv='ACC', within='SetSize', subject='sid', data=set_size_df, effsize='cohen', return_desc=True)\n"
   ]
  },
  {
   "attachments": {},
   "cell_type": "markdown",
   "id": "8004b103",
   "metadata": {},
   "source": [
    "## Set Size 2 - Overlap vs Non-Overlap"
   ]
  },
  {
   "cell_type": "code",
   "execution_count": 13,
   "id": "e54b65b6",
   "metadata": {},
   "outputs": [
    {
     "data": {
      "text/html": [
       "<div>\n",
       "<style scoped>\n",
       "    .dataframe tbody tr th:only-of-type {\n",
       "        vertical-align: middle;\n",
       "    }\n",
       "\n",
       "    .dataframe tbody tr th {\n",
       "        vertical-align: top;\n",
       "    }\n",
       "\n",
       "    .dataframe thead th {\n",
       "        text-align: right;\n",
       "    }\n",
       "</style>\n",
       "<table border=\"1\" class=\"dataframe\">\n",
       "  <thead>\n",
       "    <tr style=\"text-align: right;\">\n",
       "      <th></th>\n",
       "      <th>sid</th>\n",
       "      <th>Overlap</th>\n",
       "      <th>ACC</th>\n",
       "    </tr>\n",
       "  </thead>\n",
       "  <tbody>\n",
       "    <tr>\n",
       "      <th>0</th>\n",
       "      <td>0</td>\n",
       "      <td>False</td>\n",
       "      <td>0.765376</td>\n",
       "    </tr>\n",
       "    <tr>\n",
       "      <th>1</th>\n",
       "      <td>0</td>\n",
       "      <td>True</td>\n",
       "      <td>0.740310</td>\n",
       "    </tr>\n",
       "    <tr>\n",
       "      <th>2</th>\n",
       "      <td>1</td>\n",
       "      <td>False</td>\n",
       "      <td>0.981013</td>\n",
       "    </tr>\n",
       "    <tr>\n",
       "      <th>3</th>\n",
       "      <td>1</td>\n",
       "      <td>True</td>\n",
       "      <td>0.978495</td>\n",
       "    </tr>\n",
       "    <tr>\n",
       "      <th>4</th>\n",
       "      <td>2</td>\n",
       "      <td>False</td>\n",
       "      <td>0.954128</td>\n",
       "    </tr>\n",
       "  </tbody>\n",
       "</table>\n",
       "</div>"
      ],
      "text/plain": [
       "   sid  Overlap       ACC\n",
       "0    0    False  0.765376\n",
       "1    0     True  0.740310\n",
       "2    1    False  0.981013\n",
       "3    1     True  0.978495\n",
       "4    2    False  0.954128"
      ]
     },
     "execution_count": 13,
     "metadata": {},
     "output_type": "execute_result"
    }
   ],
   "source": [
    "full_behavior_df['Overlap'] = full_behavior_df['hyperplane_conditions'].isin([2, 3, 4, 5])  # narrow, broad, superset, partial\n",
    "\n",
    "overlap_df = full_behavior_df.query('SetSize==2').groupby(['sid', 'Overlap'])['ACC'].mean().reset_index()\n",
    "overlap_df.head()"
   ]
  },
  {
   "cell_type": "code",
   "execution_count": 14,
   "id": "5ce1ac10",
   "metadata": {},
   "outputs": [
    {
     "data": {
      "text/html": [
       "<div>\n",
       "<style scoped>\n",
       "    .dataframe tbody tr th:only-of-type {\n",
       "        vertical-align: middle;\n",
       "    }\n",
       "\n",
       "    .dataframe tbody tr th {\n",
       "        vertical-align: top;\n",
       "    }\n",
       "\n",
       "    .dataframe thead th {\n",
       "        text-align: right;\n",
       "    }\n",
       "</style>\n",
       "<table border=\"1\" class=\"dataframe\">\n",
       "  <thead>\n",
       "    <tr style=\"text-align: right;\">\n",
       "      <th></th>\n",
       "      <th>mean</th>\n",
       "      <th>std</th>\n",
       "    </tr>\n",
       "    <tr>\n",
       "      <th>Overlap</th>\n",
       "      <th></th>\n",
       "      <th></th>\n",
       "    </tr>\n",
       "  </thead>\n",
       "  <tbody>\n",
       "    <tr>\n",
       "      <th>False</th>\n",
       "      <td>0.901860</td>\n",
       "      <td>0.081446</td>\n",
       "    </tr>\n",
       "    <tr>\n",
       "      <th>True</th>\n",
       "      <td>0.861347</td>\n",
       "      <td>0.086559</td>\n",
       "    </tr>\n",
       "  </tbody>\n",
       "</table>\n",
       "</div>"
      ],
      "text/plain": [
       "             mean       std\n",
       "Overlap                    \n",
       "False    0.901860  0.081446\n",
       "True     0.861347  0.086559"
      ]
     },
     "execution_count": 14,
     "metadata": {},
     "output_type": "execute_result"
    }
   ],
   "source": [
    "overlap_df.groupby('Overlap').aggregate(['mean', 'std'])['ACC']"
   ]
  },
  {
   "cell_type": "code",
   "execution_count": 15,
   "id": "c5ad9e94",
   "metadata": {},
   "outputs": [
    {
     "data": {
      "text/html": [
       "<div>\n",
       "<style scoped>\n",
       "    .dataframe tbody tr th:only-of-type {\n",
       "        vertical-align: middle;\n",
       "    }\n",
       "\n",
       "    .dataframe tbody tr th {\n",
       "        vertical-align: top;\n",
       "    }\n",
       "\n",
       "    .dataframe thead th {\n",
       "        text-align: right;\n",
       "    }\n",
       "</style>\n",
       "<table border=\"1\" class=\"dataframe\">\n",
       "  <thead>\n",
       "    <tr style=\"text-align: right;\">\n",
       "      <th></th>\n",
       "      <th>Contrast</th>\n",
       "      <th>A</th>\n",
       "      <th>B</th>\n",
       "      <th>mean(A)</th>\n",
       "      <th>std(A)</th>\n",
       "      <th>mean(B)</th>\n",
       "      <th>std(B)</th>\n",
       "      <th>Paired</th>\n",
       "      <th>Parametric</th>\n",
       "      <th>T</th>\n",
       "      <th>dof</th>\n",
       "      <th>alternative</th>\n",
       "      <th>p-unc</th>\n",
       "      <th>BF10</th>\n",
       "      <th>cohen</th>\n",
       "    </tr>\n",
       "  </thead>\n",
       "  <tbody>\n",
       "    <tr>\n",
       "      <th>0</th>\n",
       "      <td>Overlap</td>\n",
       "      <td>False</td>\n",
       "      <td>True</td>\n",
       "      <td>0.90186</td>\n",
       "      <td>0.081446</td>\n",
       "      <td>0.861347</td>\n",
       "      <td>0.086559</td>\n",
       "      <td>True</td>\n",
       "      <td>True</td>\n",
       "      <td>5.290454</td>\n",
       "      <td>22.0</td>\n",
       "      <td>two-sided</td>\n",
       "      <td>0.000026</td>\n",
       "      <td>911.6</td>\n",
       "      <td>0.482063</td>\n",
       "    </tr>\n",
       "  </tbody>\n",
       "</table>\n",
       "</div>"
      ],
      "text/plain": [
       "  Contrast      A     B  mean(A)    std(A)   mean(B)    std(B)  Paired  \\\n",
       "0  Overlap  False  True  0.90186  0.081446  0.861347  0.086559    True   \n",
       "\n",
       "   Parametric         T   dof alternative     p-unc   BF10     cohen  \n",
       "0        True  5.290454  22.0   two-sided  0.000026  911.6  0.482063  "
      ]
     },
     "execution_count": 15,
     "metadata": {},
     "output_type": "execute_result"
    }
   ],
   "source": [
    "pg.pairwise_ttests(dv='ACC', within='Overlap', subject='sid', data=overlap_df, effsize='cohen', return_desc=True)\n"
   ]
  },
  {
   "cell_type": "code",
   "execution_count": 16,
   "id": "445c5d57",
   "metadata": {},
   "outputs": [
    {
     "data": {
      "text/html": [
       "<div>\n",
       "<style scoped>\n",
       "    .dataframe tbody tr th:only-of-type {\n",
       "        vertical-align: middle;\n",
       "    }\n",
       "\n",
       "    .dataframe tbody tr th {\n",
       "        vertical-align: top;\n",
       "    }\n",
       "\n",
       "    .dataframe thead th {\n",
       "        text-align: right;\n",
       "    }\n",
       "</style>\n",
       "<table border=\"1\" class=\"dataframe\">\n",
       "  <thead>\n",
       "    <tr style=\"text-align: right;\">\n",
       "      <th></th>\n",
       "      <th>Contrast</th>\n",
       "      <th>A</th>\n",
       "      <th>B</th>\n",
       "      <th>mean(A)</th>\n",
       "      <th>std(A)</th>\n",
       "      <th>mean(B)</th>\n",
       "      <th>std(B)</th>\n",
       "      <th>Paired</th>\n",
       "      <th>Parametric</th>\n",
       "      <th>T</th>\n",
       "      <th>dof</th>\n",
       "      <th>alternative</th>\n",
       "      <th>p-unc</th>\n",
       "      <th>BF10</th>\n",
       "      <th>cohen</th>\n",
       "    </tr>\n",
       "  </thead>\n",
       "  <tbody>\n",
       "    <tr>\n",
       "      <th>0</th>\n",
       "      <td>Overlap</td>\n",
       "      <td>False</td>\n",
       "      <td>True</td>\n",
       "      <td>0.893738</td>\n",
       "      <td>0.086921</td>\n",
       "      <td>0.847763</td>\n",
       "      <td>0.088321</td>\n",
       "      <td>True</td>\n",
       "      <td>True</td>\n",
       "      <td>5.418212</td>\n",
       "      <td>18.0</td>\n",
       "      <td>two-sided</td>\n",
       "      <td>0.000038</td>\n",
       "      <td>665.943</td>\n",
       "      <td>0.524691</td>\n",
       "    </tr>\n",
       "  </tbody>\n",
       "</table>\n",
       "</div>"
      ],
      "text/plain": [
       "  Contrast      A     B   mean(A)    std(A)   mean(B)    std(B)  Paired  \\\n",
       "0  Overlap  False  True  0.893738  0.086921  0.847763  0.088321    True   \n",
       "\n",
       "   Parametric         T   dof alternative     p-unc     BF10     cohen  \n",
       "0        True  5.418212  18.0   two-sided  0.000038  665.943  0.524691  "
      ]
     },
     "execution_count": 16,
     "metadata": {},
     "output_type": "execute_result"
    }
   ],
   "source": [
    "overlap_df = overlap_df[~overlap_df.sid.isin(bad_eyes)]\n",
    "\n",
    "pg.pairwise_ttests(dv='ACC', within='Overlap', subject='sid', data=overlap_df, effsize='cohen', return_desc=True)\n"
   ]
  },
  {
   "attachments": {},
   "cell_type": "markdown",
   "id": "4675c1a3",
   "metadata": {},
   "source": [
    "# Based on Hyperplane results, compare training conditions against held out conditions that weren't significantly different"
   ]
  },
  {
   "cell_type": "code",
   "execution_count": 17,
   "id": "2758adef",
   "metadata": {},
   "outputs": [
    {
     "data": {
      "text/plain": [
       "{'SS1: Narrow': 'royalblue',\n",
       " 'SS1: Broad': 'forestgreen',\n",
       " 'SS2: Overlap, Narrow': 'orchid',\n",
       " 'SS2: Overlap, Broad': 'coral',\n",
       " 'SS2: Superset Overlap': 'orange',\n",
       " 'SS2: Partial Overlap': 'red',\n",
       " 'SS2: No Overlap, Mixed': 'darkred',\n",
       " 'SS2: No Overlap, Narrow': 'yellow',\n",
       " 'SS2: No Overlap, Broad': 'dodgerblue'}"
      ]
     },
     "execution_count": 17,
     "metadata": {},
     "output_type": "execute_result"
    }
   ],
   "source": [
    "hyperplane_conds = {\n",
    "    0: 'SS1: Narrow',\n",
    "    1: 'SS1: Broad',\n",
    "    2: 'SS2: Overlap, Narrow',\n",
    "    3: 'SS2: Overlap, Broad',\n",
    "    4: 'SS2: Superset Overlap',\n",
    "    5: 'SS2: Partial Overlap',\n",
    "    6: 'SS2: No Overlap, Mixed',\n",
    "    7: 'SS2: No Overlap, Narrow',\n",
    "    8: 'SS2: No Overlap, Broad'\n",
    "}\n",
    "\n",
    "cond_load_map = {0:0, 1:0, 2:1, 3:1, 4:1, 5:1, 6:1, 7:1, 8:1} # mapping the conditions to loads\n",
    "\n",
    "colormap = {\n",
    "    0: 'royalblue',\n",
    "    1: 'forestgreen',\n",
    "    2: 'orchid',\n",
    "    3: 'coral',\n",
    "    4: 'orange',\n",
    "    5: 'red',\n",
    "    6: 'darkred',\n",
    "    7: 'yellow',\n",
    "    8: 'dodgerblue'\n",
    "}\n",
    "\n",
    "palette={hyperplane_conds[idx]: colormap[idx] for idx in range(9)}\n",
    "palette"
   ]
  },
  {
   "cell_type": "code",
   "execution_count": 18,
   "id": "d3320e68",
   "metadata": {},
   "outputs": [
    {
     "data": {
      "text/html": [
       "<div>\n",
       "<style scoped>\n",
       "    .dataframe tbody tr th:only-of-type {\n",
       "        vertical-align: middle;\n",
       "    }\n",
       "\n",
       "    .dataframe tbody tr th {\n",
       "        vertical-align: top;\n",
       "    }\n",
       "\n",
       "    .dataframe thead th {\n",
       "        text-align: right;\n",
       "    }\n",
       "</style>\n",
       "<table border=\"1\" class=\"dataframe\">\n",
       "  <thead>\n",
       "    <tr style=\"text-align: right;\">\n",
       "      <th></th>\n",
       "      <th>Contrast</th>\n",
       "      <th>A</th>\n",
       "      <th>B</th>\n",
       "      <th>mean(A)</th>\n",
       "      <th>std(A)</th>\n",
       "      <th>mean(B)</th>\n",
       "      <th>std(B)</th>\n",
       "      <th>Paired</th>\n",
       "      <th>Parametric</th>\n",
       "      <th>T</th>\n",
       "      <th>dof</th>\n",
       "      <th>alternative</th>\n",
       "      <th>p-unc</th>\n",
       "      <th>BF10</th>\n",
       "      <th>cohen</th>\n",
       "    </tr>\n",
       "  </thead>\n",
       "  <tbody>\n",
       "    <tr>\n",
       "      <th>0</th>\n",
       "      <td>hyperplane_conditions</td>\n",
       "      <td>0</td>\n",
       "      <td>1</td>\n",
       "      <td>0.97008</td>\n",
       "      <td>0.051317</td>\n",
       "      <td>0.964671</td>\n",
       "      <td>0.057076</td>\n",
       "      <td>True</td>\n",
       "      <td>True</td>\n",
       "      <td>1.360456</td>\n",
       "      <td>22.0</td>\n",
       "      <td>two-sided</td>\n",
       "      <td>0.187463</td>\n",
       "      <td>0.493</td>\n",
       "      <td>0.099649</td>\n",
       "    </tr>\n",
       "  </tbody>\n",
       "</table>\n",
       "</div>"
      ],
      "text/plain": [
       "                Contrast  A  B  mean(A)    std(A)   mean(B)    std(B)  Paired  \\\n",
       "0  hyperplane_conditions  0  1  0.97008  0.051317  0.964671  0.057076    True   \n",
       "\n",
       "   Parametric         T   dof alternative     p-unc   BF10     cohen  \n",
       "0        True  1.360456  22.0   two-sided  0.187463  0.493  0.099649  "
      ]
     },
     "execution_count": 18,
     "metadata": {},
     "output_type": "execute_result"
    }
   ],
   "source": [
    "ss1_breadth_accs = full_behavior_df.query('SetSize==1').groupby(['sid', 'hyperplane_conditions'])['ACC'].mean().reset_index()\n",
    "\n",
    "pg.pairwise_ttests(dv='ACC', within='hyperplane_conditions', subject='sid', data=ss1_breadth_accs, effsize='cohen', return_desc=True)\n"
   ]
  },
  {
   "cell_type": "code",
   "execution_count": 19,
   "id": "14237036",
   "metadata": {},
   "outputs": [
    {
     "data": {
      "text/html": [
       "<div>\n",
       "<style scoped>\n",
       "    .dataframe tbody tr th:only-of-type {\n",
       "        vertical-align: middle;\n",
       "    }\n",
       "\n",
       "    .dataframe tbody tr th {\n",
       "        vertical-align: top;\n",
       "    }\n",
       "\n",
       "    .dataframe thead th {\n",
       "        text-align: right;\n",
       "    }\n",
       "</style>\n",
       "<table border=\"1\" class=\"dataframe\">\n",
       "  <thead>\n",
       "    <tr style=\"text-align: right;\">\n",
       "      <th></th>\n",
       "      <th>Contrast</th>\n",
       "      <th>A</th>\n",
       "      <th>B</th>\n",
       "      <th>mean(A)</th>\n",
       "      <th>std(A)</th>\n",
       "      <th>mean(B)</th>\n",
       "      <th>std(B)</th>\n",
       "      <th>Paired</th>\n",
       "      <th>Parametric</th>\n",
       "      <th>T</th>\n",
       "      <th>dof</th>\n",
       "      <th>alternative</th>\n",
       "      <th>p-unc</th>\n",
       "      <th>BF10</th>\n",
       "      <th>cohen</th>\n",
       "    </tr>\n",
       "  </thead>\n",
       "  <tbody>\n",
       "    <tr>\n",
       "      <th>0</th>\n",
       "      <td>hyperplane_conditions</td>\n",
       "      <td>0</td>\n",
       "      <td>1</td>\n",
       "      <td>0.967728</td>\n",
       "      <td>0.055844</td>\n",
       "      <td>0.960183</td>\n",
       "      <td>0.061946</td>\n",
       "      <td>True</td>\n",
       "      <td>True</td>\n",
       "      <td>1.695895</td>\n",
       "      <td>18.0</td>\n",
       "      <td>two-sided</td>\n",
       "      <td>0.107133</td>\n",
       "      <td>0.793</td>\n",
       "      <td>0.127941</td>\n",
       "    </tr>\n",
       "  </tbody>\n",
       "</table>\n",
       "</div>"
      ],
      "text/plain": [
       "                Contrast  A  B   mean(A)    std(A)   mean(B)    std(B)  \\\n",
       "0  hyperplane_conditions  0  1  0.967728  0.055844  0.960183  0.061946   \n",
       "\n",
       "   Paired  Parametric         T   dof alternative     p-unc   BF10     cohen  \n",
       "0    True        True  1.695895  18.0   two-sided  0.107133  0.793  0.127941  "
      ]
     },
     "execution_count": 19,
     "metadata": {},
     "output_type": "execute_result"
    }
   ],
   "source": [
    "ss1_breadth_accs = ss1_breadth_accs[~ss1_breadth_accs.sid.isin(bad_eyes)]\n",
    "\n",
    "pg.pairwise_ttests(dv='ACC', within='hyperplane_conditions', subject='sid', data=ss1_breadth_accs, effsize='cohen', return_desc=True)"
   ]
  },
  {
   "cell_type": "code",
   "execution_count": 20,
   "id": "16d2eb5f",
   "metadata": {},
   "outputs": [],
   "source": [
    "ss2_cond_accs = full_behavior_df.query('SetSize==2').groupby(['sid', 'hyperplane_conditions'])['ACC'].mean().reset_index()"
   ]
  },
  {
   "cell_type": "code",
   "execution_count": null,
   "id": "303f8d80",
   "metadata": {},
   "outputs": [],
   "source": []
  },
  {
   "cell_type": "code",
   "execution_count": 24,
   "id": "438e34f5",
   "metadata": {},
   "outputs": [
    {
     "name": "stdout",
     "output_type": "stream",
     "text": [
      "SS2 Superset - SS2: Overlap, Narrow: \n",
      "                Contrast  A  B   mean(A)    std(A)   mean(B)    std(B)  \\\n",
      "0  hyperplane_conditions  2  4  0.918557  0.113062  0.861927  0.095155   \n",
      "\n",
      "   Paired  Parametric         T   dof alternative     p-unc  BF10     cohen  \n",
      "0    True        True  2.523939  22.0   two-sided  0.019328  2.84  0.541942  \n",
      "\n",
      "SS2 Superset - SS2: Overlap, Broad: \n",
      "                Contrast  A  B   mean(A)    std(A)   mean(B)    std(B)  \\\n",
      "0  hyperplane_conditions  3  4  0.900659  0.123855  0.861927  0.095155   \n",
      "\n",
      "   Paired  Parametric         T   dof alternative     p-unc   BF10   cohen  \n",
      "0    True        True  2.302338  22.0   two-sided  0.031154  1.926  0.3507  \n",
      "\n",
      "SS2 Superset - SS2: Partial Overlap: \n",
      "                Contrast  A  B   mean(A)    std(A)   mean(B)    std(B)  \\\n",
      "0  hyperplane_conditions  4  5  0.861927  0.095155  0.836281  0.090802   \n",
      "\n",
      "   Paired  Parametric         T   dof alternative     p-unc   BF10     cohen  \n",
      "0    True        True  1.889639  22.0   two-sided  0.072056  0.994  0.275752  \n",
      "\n",
      "SS2 Superset - SS2: No Overlap, Broad: \n",
      "                Contrast  A  B   mean(A)    std(A)   mean(B)    std(B)  \\\n",
      "0  hyperplane_conditions  4  8  0.861927  0.095155  0.885173  0.086741   \n",
      "\n",
      "   Paired  Parametric         T   dof alternative     p-unc   BF10     cohen  \n",
      "0    True        True -2.065705  22.0   two-sided  0.050833  1.304 -0.255314  \n",
      "\n"
     ]
    }
   ],
   "source": [
    "ss2_cond_accs = full_behavior_df.query('SetSize==2').groupby(['sid', 'hyperplane_conditions'])['ACC'].mean().reset_index()\n",
    "\n",
    "for hyperplane_cond in [2, 3, 5]:\n",
    "    print(f'SS2 Superset - {hyperplane_conds[hyperplane_cond]}: ')\n",
    "    print(pg.pairwise_ttests(dv='ACC', within='hyperplane_conditions', subject='sid', data=ss2_cond_accs.query(f'hyperplane_conditions in [{hyperplane_cond}, 4]'), effsize='cohen', return_desc=True))\n",
    "    print('')"
   ]
  },
  {
   "cell_type": "code",
   "execution_count": 22,
   "id": "130a3a21",
   "metadata": {},
   "outputs": [
    {
     "name": "stdout",
     "output_type": "stream",
     "text": [
      "SS2 Superset - SS2: Overlap, Narrow: \n",
      "                Contrast  A  B  mean(A)   std(A)   mean(B)   std(B)  Paired  \\\n",
      "0  hyperplane_conditions  2  4  0.90918  0.12129  0.846399  0.09682    True   \n",
      "\n",
      "   Parametric         T   dof alternative     p-unc   BF10     cohen  \n",
      "0        True  2.379636  18.0   two-sided  0.028596  2.203  0.572091  \n",
      "SS2 Superset - SS2: Overlap, Broad: \n",
      "                Contrast  A  B   mean(A)    std(A)   mean(B)   std(B)  Paired  \\\n",
      "0  hyperplane_conditions  3  4  0.882377  0.128904  0.846399  0.09682    True   \n",
      "\n",
      "   Parametric         T   dof alternative     p-unc   BF10     cohen  \n",
      "0        True  1.794362  18.0   two-sided  0.089569  0.906  0.315604  \n",
      "SS2 Superset - SS2: Partial Overlap: \n",
      "                Contrast  A  B   mean(A)   std(A)   mean(B)    std(B)  Paired  \\\n",
      "0  hyperplane_conditions  4  5  0.846399  0.09682  0.826023  0.092759    True   \n",
      "\n",
      "   Parametric       T   dof alternative     p-unc   BF10     cohen  \n",
      "0        True  1.3221  18.0   two-sided  0.202691  0.505  0.214915  \n",
      "SS2 Superset - SS2: No Overlap, Broad: \n",
      "                Contrast  A  B   mean(A)   std(A)   mean(B)    std(B)  Paired  \\\n",
      "0  hyperplane_conditions  4  8  0.846399  0.09682  0.875434  0.090901    True   \n",
      "\n",
      "   Parametric         T   dof alternative     p-unc  BF10     cohen  \n",
      "0        True -2.268489  18.0   two-sided  0.035837  1.84 -0.309184  \n"
     ]
    }
   ],
   "source": [
    "ss2_cond_accs = ss2_cond_accs[~ss2_cond_accs.sid.isin(bad_eyes)]\n",
    "\n",
    "for hyperplane_cond in [2, 3, 5]:\n",
    "    print(f'SS2 Superset - {hyperplane_conds[hyperplane_cond]}: ')\n",
    "    print(pg.pairwise_ttests(dv='ACC', within='hyperplane_conditions', subject='sid', data=ss2_cond_accs.query(f'hyperplane_conditions in [{hyperplane_cond}, 4]'), effsize='cohen', return_desc=True))"
   ]
  },
  {
   "attachments": {},
   "cell_type": "markdown",
   "id": "393cc784",
   "metadata": {},
   "source": [
    "# Make Table for Paper"
   ]
  },
  {
   "cell_type": "code",
   "execution_count": 23,
   "id": "34326c71",
   "metadata": {},
   "outputs": [
    {
     "data": {
      "text/html": [
       "<div>\n",
       "<style scoped>\n",
       "    .dataframe tbody tr th:only-of-type {\n",
       "        vertical-align: middle;\n",
       "    }\n",
       "\n",
       "    .dataframe tbody tr th {\n",
       "        vertical-align: top;\n",
       "    }\n",
       "\n",
       "    .dataframe thead tr th {\n",
       "        text-align: left;\n",
       "    }\n",
       "</style>\n",
       "<table border=\"1\" class=\"dataframe\">\n",
       "  <thead>\n",
       "    <tr>\n",
       "      <th></th>\n",
       "      <th>hyperplane_conditions</th>\n",
       "      <th colspan=\"2\" halign=\"left\">ACC</th>\n",
       "    </tr>\n",
       "    <tr>\n",
       "      <th></th>\n",
       "      <th></th>\n",
       "      <th>mean</th>\n",
       "      <th>std</th>\n",
       "    </tr>\n",
       "  </thead>\n",
       "  <tbody>\n",
       "    <tr>\n",
       "      <th>0</th>\n",
       "      <td>SS1: Narrow</td>\n",
       "      <td>0.970080</td>\n",
       "      <td>0.051317</td>\n",
       "    </tr>\n",
       "    <tr>\n",
       "      <th>1</th>\n",
       "      <td>SS1: Broad</td>\n",
       "      <td>0.964671</td>\n",
       "      <td>0.057076</td>\n",
       "    </tr>\n",
       "    <tr>\n",
       "      <th>2</th>\n",
       "      <td>SS2: Overlap, Narrow</td>\n",
       "      <td>0.918557</td>\n",
       "      <td>0.113062</td>\n",
       "    </tr>\n",
       "    <tr>\n",
       "      <th>3</th>\n",
       "      <td>SS2: Overlap, Broad</td>\n",
       "      <td>0.900659</td>\n",
       "      <td>0.123855</td>\n",
       "    </tr>\n",
       "    <tr>\n",
       "      <th>4</th>\n",
       "      <td>SS2: Superset Overlap</td>\n",
       "      <td>0.861927</td>\n",
       "      <td>0.095155</td>\n",
       "    </tr>\n",
       "    <tr>\n",
       "      <th>5</th>\n",
       "      <td>SS2: Partial Overlap</td>\n",
       "      <td>0.836281</td>\n",
       "      <td>0.090802</td>\n",
       "    </tr>\n",
       "    <tr>\n",
       "      <th>6</th>\n",
       "      <td>SS2: No Overlap, Mixed</td>\n",
       "      <td>0.893953</td>\n",
       "      <td>0.085890</td>\n",
       "    </tr>\n",
       "    <tr>\n",
       "      <th>7</th>\n",
       "      <td>SS2: No Overlap, Narrow</td>\n",
       "      <td>0.920336</td>\n",
       "      <td>0.078061</td>\n",
       "    </tr>\n",
       "    <tr>\n",
       "      <th>8</th>\n",
       "      <td>SS2: No Overlap, Broad</td>\n",
       "      <td>0.885173</td>\n",
       "      <td>0.086741</td>\n",
       "    </tr>\n",
       "  </tbody>\n",
       "</table>\n",
       "</div>"
      ],
      "text/plain": [
       "     hyperplane_conditions       ACC          \n",
       "                                mean       std\n",
       "0              SS1: Narrow  0.970080  0.051317\n",
       "1               SS1: Broad  0.964671  0.057076\n",
       "2     SS2: Overlap, Narrow  0.918557  0.113062\n",
       "3      SS2: Overlap, Broad  0.900659  0.123855\n",
       "4    SS2: Superset Overlap  0.861927  0.095155\n",
       "5     SS2: Partial Overlap  0.836281  0.090802\n",
       "6   SS2: No Overlap, Mixed  0.893953  0.085890\n",
       "7  SS2: No Overlap, Narrow  0.920336  0.078061\n",
       "8   SS2: No Overlap, Broad  0.885173  0.086741"
      ]
     },
     "execution_count": 23,
     "metadata": {},
     "output_type": "execute_result"
    }
   ],
   "source": [
    "summary_table = full_behavior_df.groupby(['sid', 'hyperplane_conditions']).aggregate({'ACC': 'mean'}).reset_index().groupby('hyperplane_conditions').aggregate({'ACC': ['mean', 'std']}).reset_index()\n",
    "summary_table.hyperplane_conditions = summary_table.hyperplane_conditions.map(hyperplane_conds)\n",
    "summary_table"
   ]
  }
 ],
 "metadata": {
  "kernelspec": {
   "display_name": "Python 3 (ipykernel)",
   "language": "python",
   "name": "python3"
  },
  "language_info": {
   "codemirror_mode": {
    "name": "ipython",
    "version": 3
   },
   "file_extension": ".py",
   "mimetype": "text/x-python",
   "name": "python",
   "nbconvert_exporter": "python",
   "pygments_lexer": "ipython3",
   "version": "3.10.11"
  }
 },
 "nbformat": 4,
 "nbformat_minor": 5
}
